{
 "cells": [
  {
   "cell_type": "code",
   "execution_count": 1,
   "metadata": {
    "_cell_guid": "b1076dfc-b9ad-4769-8c92-a6c4dae69d19",
    "_uuid": "8f2839f25d086af736a60e9eeb907d3b93b6e0e5",
    "id": "Pqws5lfupkFp",
    "outputId": "5452f3c9-5909-4efd-ef7a-69fec89a5c58"
   },
   "outputs": [
    {
     "name": "stdout",
     "output_type": "stream",
     "text": [
      "Collecting transformers==3.0.2\n",
      "  Downloading transformers-3.0.2-py3-none-any.whl (769 kB)\n",
      "\u001b[K     |████████████████████████████████| 769 kB 2.8 MB/s eta 0:00:01\n",
      "\u001b[?25hRequirement already satisfied: regex!=2019.12.17 in /opt/conda/lib/python3.7/site-packages (from transformers==3.0.2) (2021.3.17)\n",
      "Collecting tokenizers==0.8.1.rc1\n",
      "  Downloading tokenizers-0.8.1rc1-cp37-cp37m-manylinux1_x86_64.whl (3.0 MB)\n",
      "\u001b[K     |████████████████████████████████| 3.0 MB 13.8 MB/s eta 0:00:01\n",
      "\u001b[?25hRequirement already satisfied: filelock in /opt/conda/lib/python3.7/site-packages (from transformers==3.0.2) (3.0.12)\n",
      "Requirement already satisfied: numpy in /opt/conda/lib/python3.7/site-packages (from transformers==3.0.2) (1.19.5)\n",
      "Requirement already satisfied: tqdm>=4.27 in /opt/conda/lib/python3.7/site-packages (from transformers==3.0.2) (4.59.0)\n",
      "Requirement already satisfied: packaging in /opt/conda/lib/python3.7/site-packages (from transformers==3.0.2) (20.9)\n",
      "Requirement already satisfied: sacremoses in /opt/conda/lib/python3.7/site-packages (from transformers==3.0.2) (0.0.45)\n",
      "Requirement already satisfied: requests in /opt/conda/lib/python3.7/site-packages (from transformers==3.0.2) (2.25.1)\n",
      "Requirement already satisfied: sentencepiece!=0.1.92 in /opt/conda/lib/python3.7/site-packages (from transformers==3.0.2) (0.1.95)\n",
      "Requirement already satisfied: pyparsing>=2.0.2 in /opt/conda/lib/python3.7/site-packages (from packaging->transformers==3.0.2) (2.4.7)\n",
      "Requirement already satisfied: idna<3,>=2.5 in /opt/conda/lib/python3.7/site-packages (from requests->transformers==3.0.2) (2.10)\n",
      "Requirement already satisfied: certifi>=2017.4.17 in /opt/conda/lib/python3.7/site-packages (from requests->transformers==3.0.2) (2020.12.5)\n",
      "Requirement already satisfied: urllib3<1.27,>=1.21.1 in /opt/conda/lib/python3.7/site-packages (from requests->transformers==3.0.2) (1.26.4)\n",
      "Requirement already satisfied: chardet<5,>=3.0.2 in /opt/conda/lib/python3.7/site-packages (from requests->transformers==3.0.2) (4.0.0)\n",
      "Requirement already satisfied: joblib in /opt/conda/lib/python3.7/site-packages (from sacremoses->transformers==3.0.2) (1.0.1)\n",
      "Requirement already satisfied: six in /opt/conda/lib/python3.7/site-packages (from sacremoses->transformers==3.0.2) (1.15.0)\n",
      "Requirement already satisfied: click in /opt/conda/lib/python3.7/site-packages (from sacremoses->transformers==3.0.2) (7.1.2)\n",
      "Installing collected packages: tokenizers, transformers\n",
      "  Attempting uninstall: tokenizers\n",
      "    Found existing installation: tokenizers 0.10.2\n",
      "    Uninstalling tokenizers-0.10.2:\n",
      "      Successfully uninstalled tokenizers-0.10.2\n",
      "  Attempting uninstall: transformers\n",
      "    Found existing installation: transformers 4.5.1\n",
      "    Uninstalling transformers-4.5.1:\n",
      "      Successfully uninstalled transformers-4.5.1\n",
      "\u001b[31mERROR: pip's dependency resolver does not currently take into account all the packages that are installed. This behaviour is the source of the following dependency conflicts.\n",
      "allennlp 2.3.0 requires transformers<4.6,>=4.1, but you have transformers 3.0.2 which is incompatible.\u001b[0m\n",
      "Successfully installed tokenizers-0.8.1rc1 transformers-3.0.2\n",
      "Collecting datasets==1.2.0\n",
      "  Downloading datasets-1.2.0-py3-none-any.whl (159 kB)\n",
      "\u001b[K     |████████████████████████████████| 159 kB 2.8 MB/s eta 0:00:01\n",
      "\u001b[?25hRequirement already satisfied: pyarrow>=0.17.1 in /opt/conda/lib/python3.7/site-packages (from datasets==1.2.0) (3.0.0)\n",
      "Requirement already satisfied: multiprocess in /opt/conda/lib/python3.7/site-packages (from datasets==1.2.0) (0.70.11.1)\n",
      "Requirement already satisfied: dill in /opt/conda/lib/python3.7/site-packages (from datasets==1.2.0) (0.3.3)\n",
      "Requirement already satisfied: requests>=2.19.0 in /opt/conda/lib/python3.7/site-packages (from datasets==1.2.0) (2.25.1)\n",
      "Collecting xxhash\n",
      "  Downloading xxhash-2.0.2-cp37-cp37m-manylinux2010_x86_64.whl (243 kB)\n",
      "\u001b[K     |████████████████████████████████| 243 kB 16.9 MB/s eta 0:00:01\n",
      "\u001b[?25hRequirement already satisfied: pandas in /opt/conda/lib/python3.7/site-packages (from datasets==1.2.0) (1.2.3)\n",
      "Collecting tqdm<4.50.0,>=4.27\n",
      "  Downloading tqdm-4.49.0-py2.py3-none-any.whl (69 kB)\n",
      "\u001b[K     |████████████████████████████████| 69 kB 4.5 MB/s  eta 0:00:01\n",
      "\u001b[?25hRequirement already satisfied: numpy>=1.17 in /opt/conda/lib/python3.7/site-packages (from datasets==1.2.0) (1.19.5)\n",
      "Requirement already satisfied: urllib3<1.27,>=1.21.1 in /opt/conda/lib/python3.7/site-packages (from requests>=2.19.0->datasets==1.2.0) (1.26.4)\n",
      "Requirement already satisfied: certifi>=2017.4.17 in /opt/conda/lib/python3.7/site-packages (from requests>=2.19.0->datasets==1.2.0) (2020.12.5)\n",
      "Requirement already satisfied: chardet<5,>=3.0.2 in /opt/conda/lib/python3.7/site-packages (from requests>=2.19.0->datasets==1.2.0) (4.0.0)\n",
      "Requirement already satisfied: idna<3,>=2.5 in /opt/conda/lib/python3.7/site-packages (from requests>=2.19.0->datasets==1.2.0) (2.10)\n",
      "Requirement already satisfied: python-dateutil>=2.7.3 in /opt/conda/lib/python3.7/site-packages (from pandas->datasets==1.2.0) (2.8.1)\n",
      "Requirement already satisfied: pytz>=2017.3 in /opt/conda/lib/python3.7/site-packages (from pandas->datasets==1.2.0) (2021.1)\n",
      "Requirement already satisfied: six>=1.5 in /opt/conda/lib/python3.7/site-packages (from python-dateutil>=2.7.3->pandas->datasets==1.2.0) (1.15.0)\n",
      "Installing collected packages: xxhash, tqdm, datasets\n",
      "  Attempting uninstall: tqdm\n",
      "    Found existing installation: tqdm 4.59.0\n",
      "    Uninstalling tqdm-4.59.0:\n",
      "      Successfully uninstalled tqdm-4.59.0\n",
      "\u001b[31mERROR: pip's dependency resolver does not currently take into account all the packages that are installed. This behaviour is the source of the following dependency conflicts.\n",
      "allennlp 2.3.0 requires transformers<4.6,>=4.1, but you have transformers 3.0.2 which is incompatible.\u001b[0m\n",
      "Successfully installed datasets-1.2.0 tqdm-4.49.0 xxhash-2.0.2\n"
     ]
    }
   ],
   "source": [
    "!pip install transformers==3.0.2\n",
    "!pip install datasets==1.2.0"
   ]
  },
  {
   "cell_type": "code",
   "execution_count": 2,
   "metadata": {
    "id": "N85DEbsEpkFq"
   },
   "outputs": [
    {
     "name": "stderr",
     "output_type": "stream",
     "text": [
      "\u001b[34m\u001b[1mwandb\u001b[0m: \u001b[33mWARNING\u001b[0m W&B installed but not logged in.  Run `wandb login` or set the WANDB_API_KEY env variable.\n"
     ]
    }
   ],
   "source": [
    "import pandas as pd \n",
    "import numpy as np\n",
    "import matplotlib.pyplot as plt\n",
    "\n",
    "from transformers import TFAutoModel, AutoTokenizer\n",
    "from datasets import load_dataset\n",
    "\n",
    "import tensorflow as tf\n",
    "from tensorflow import keras\n",
    "\n",
    "from sklearn.model_selection import train_test_split\n",
    "from sklearn.metrics import classification_report\n",
    "\n",
    "SEED = 13\n",
    "tf.random.set_seed(SEED)\n",
    "np.random.seed(SEED)"
   ]
  },
  {
   "cell_type": "code",
   "execution_count": 3,
   "metadata": {
    "id": "Nka_kw7rpkFs",
    "outputId": "529e28df-e87c-41e7-9469-96b229d4f09a"
   },
   "outputs": [
    {
     "name": "stdout",
     "output_type": "stream",
     "text": [
      "Running on TPU  grpc://10.0.0.2:8470\n",
      "REPLICAS:  8\n",
      "We're gonna get this thing done pretty fast.\n",
      "That's what she said.\n"
     ]
    }
   ],
   "source": [
    "# Detect hardware, return appropriate distribution strategy\n",
    "try:\n",
    "    # TPU detection. No parameters necessary if TPU_NAME environment variable is\n",
    "    # set: this is always the case on Kaggle.\n",
    "    tpu = tf.distribute.cluster_resolver.TPUClusterResolver()\n",
    "    print('Running on TPU ', tpu.master())\n",
    "except ValueError:\n",
    "    tpu = None\n",
    "\n",
    "if (tpu):\n",
    "    tf.config.experimental_connect_to_cluster(tpu)\n",
    "    tf.tpu.experimental.initialize_tpu_system(tpu)\n",
    "    strategy = tf.distribute.experimental.TPUStrategy(tpu)\n",
    "else:\n",
    "    strategy = tf.distribute.get_strategy()\n",
    "\n",
    "n_replica = strategy.num_replicas_in_sync\n",
    "print(\"REPLICAS: \", n_replica)\n",
    "\n",
    "if (n_replica <= 1):\n",
    "    print('WARNING! Gradients are not calculated distributedly on TPUs.')\n",
    "    print('This will take almost forever until we finish.')\n",
    "else:\n",
    "    print(\"We're gonna get this thing done pretty fast.\")\n",
    "print(\"That's what she said.\")"
   ]
  },
  {
   "cell_type": "code",
   "execution_count": 4,
   "metadata": {
    "id": "yymkFS2ypkFt"
   },
   "outputs": [],
   "source": [
    "train_data = pd.read_csv('/kaggle/input/contradictory-my-dear-watson/train.csv')\n",
    "test_data = pd.read_csv('/kaggle/input/contradictory-my-dear-watson/test.csv')\n",
    "\n",
    "# train_data = pd.read_csv('/content/train.csv')\n",
    "# test_data = pd.read_csv('/content/test.csv')"
   ]
  },
  {
   "cell_type": "code",
   "execution_count": 5,
   "metadata": {
    "id": "zTClRUR3pkFu",
    "outputId": "467d67da-ce23-49a1-88ef-1a4c93ea064f"
   },
   "outputs": [
    {
     "data": {
      "text/html": [
       "<div>\n",
       "<style scoped>\n",
       "    .dataframe tbody tr th:only-of-type {\n",
       "        vertical-align: middle;\n",
       "    }\n",
       "\n",
       "    .dataframe tbody tr th {\n",
       "        vertical-align: top;\n",
       "    }\n",
       "\n",
       "    .dataframe thead th {\n",
       "        text-align: right;\n",
       "    }\n",
       "</style>\n",
       "<table border=\"1\" class=\"dataframe\">\n",
       "  <thead>\n",
       "    <tr style=\"text-align: right;\">\n",
       "      <th></th>\n",
       "      <th>id</th>\n",
       "      <th>premise</th>\n",
       "      <th>hypothesis</th>\n",
       "      <th>lang_abv</th>\n",
       "      <th>language</th>\n",
       "      <th>label</th>\n",
       "    </tr>\n",
       "  </thead>\n",
       "  <tbody>\n",
       "    <tr>\n",
       "      <th>0</th>\n",
       "      <td>5130fd2cb5</td>\n",
       "      <td>and these comments were considered in formulat...</td>\n",
       "      <td>The rules developed in the interim were put to...</td>\n",
       "      <td>en</td>\n",
       "      <td>English</td>\n",
       "      <td>0</td>\n",
       "    </tr>\n",
       "    <tr>\n",
       "      <th>1</th>\n",
       "      <td>5b72532a0b</td>\n",
       "      <td>These are issues that we wrestle with in pract...</td>\n",
       "      <td>Practice groups are not permitted to work on t...</td>\n",
       "      <td>en</td>\n",
       "      <td>English</td>\n",
       "      <td>2</td>\n",
       "    </tr>\n",
       "    <tr>\n",
       "      <th>2</th>\n",
       "      <td>3931fbe82a</td>\n",
       "      <td>Des petites choses comme celles-là font une di...</td>\n",
       "      <td>J'essayais d'accomplir quelque chose.</td>\n",
       "      <td>fr</td>\n",
       "      <td>French</td>\n",
       "      <td>0</td>\n",
       "    </tr>\n",
       "    <tr>\n",
       "      <th>3</th>\n",
       "      <td>5622f0c60b</td>\n",
       "      <td>you know they can't really defend themselves l...</td>\n",
       "      <td>They can't defend themselves because of their ...</td>\n",
       "      <td>en</td>\n",
       "      <td>English</td>\n",
       "      <td>0</td>\n",
       "    </tr>\n",
       "    <tr>\n",
       "      <th>4</th>\n",
       "      <td>86aaa48b45</td>\n",
       "      <td>ในการเล่นบทบาทสมมุติก็เช่นกัน โอกาสที่จะได้แสด...</td>\n",
       "      <td>เด็กสามารถเห็นได้ว่าชาติพันธุ์แตกต่างกันอย่างไร</td>\n",
       "      <td>th</td>\n",
       "      <td>Thai</td>\n",
       "      <td>1</td>\n",
       "    </tr>\n",
       "  </tbody>\n",
       "</table>\n",
       "</div>"
      ],
      "text/plain": [
       "           id                                            premise  \\\n",
       "0  5130fd2cb5  and these comments were considered in formulat...   \n",
       "1  5b72532a0b  These are issues that we wrestle with in pract...   \n",
       "2  3931fbe82a  Des petites choses comme celles-là font une di...   \n",
       "3  5622f0c60b  you know they can't really defend themselves l...   \n",
       "4  86aaa48b45  ในการเล่นบทบาทสมมุติก็เช่นกัน โอกาสที่จะได้แสด...   \n",
       "\n",
       "                                          hypothesis lang_abv language  label  \n",
       "0  The rules developed in the interim were put to...       en  English      0  \n",
       "1  Practice groups are not permitted to work on t...       en  English      2  \n",
       "2              J'essayais d'accomplir quelque chose.       fr   French      0  \n",
       "3  They can't defend themselves because of their ...       en  English      0  \n",
       "4    เด็กสามารถเห็นได้ว่าชาติพันธุ์แตกต่างกันอย่างไร       th     Thai      1  "
      ]
     },
     "execution_count": 5,
     "metadata": {},
     "output_type": "execute_result"
    }
   ],
   "source": [
    "train_data.head()"
   ]
  },
  {
   "cell_type": "code",
   "execution_count": 6,
   "metadata": {},
   "outputs": [
    {
     "data": {
      "text/plain": [
       "English       6870\n",
       "Chinese        411\n",
       "Arabic         401\n",
       "French         390\n",
       "Swahili        385\n",
       "Urdu           381\n",
       "Vietnamese     379\n",
       "Russian        376\n",
       "Hindi          374\n",
       "Greek          372\n",
       "Thai           371\n",
       "Spanish        366\n",
       "Turkish        351\n",
       "German         351\n",
       "Bulgarian      342\n",
       "Name: language, dtype: int64"
      ]
     },
     "execution_count": 6,
     "metadata": {},
     "output_type": "execute_result"
    }
   ],
   "source": [
    "train_data['language'].value_counts()"
   ]
  },
  {
   "cell_type": "code",
   "execution_count": 7,
   "metadata": {},
   "outputs": [
    {
     "data": {
      "image/png": "[encoded data removed]",
      "text/plain": [
       "<Figure size 432x288 with 1 Axes>"
      ]
     },
     "metadata": {
      "needs_background": "light"
     },
     "output_type": "display_data"
    }
   ],
   "source": [
    "train_data['language'].value_counts().plot(kind='bar')\n",
    "plt.title('Count of training instances by languages')\n",
    "plt.xlabel('Language')\n",
    "plt.ylabel('Count')\n",
    "plt.show()"
   ]
  },
  {
   "cell_type": "code",
   "execution_count": 8,
   "metadata": {},
   "outputs": [
    {
     "data": {
      "application/vnd.jupyter.widget-view+json": {
       "model_id": "5a4d554c06fd4fe3ba4ef7891e1690f9",
       "version_major": 2,
       "version_minor": 0
      },
      "text/plain": [
       "HBox(children=(FloatProgress(value=0.0, description='Downloading', max=2697.0, style=ProgressStyle(description…"
      ]
     },
     "metadata": {},
     "output_type": "display_data"
    },
    {
     "name": "stdout",
     "output_type": "stream",
     "text": [
      "\n"
     ]
    },
    {
     "data": {
      "application/vnd.jupyter.widget-view+json": {
       "model_id": "a8346bb5862c4ccd970630fc3a137b0c",
       "version_major": 2,
       "version_minor": 0
      },
      "text/plain": [
       "HBox(children=(FloatProgress(value=0.0, description='Downloading', max=2184.0, style=ProgressStyle(description…"
      ]
     },
     "metadata": {},
     "output_type": "display_data"
    },
    {
     "name": "stdout",
     "output_type": "stream",
     "text": [
      "\n",
      "Downloading and preparing dataset xnli/th (download: 461.54 MiB, generated: 170.97 MiB, post-processed: Unknown size, total: 632.51 MiB) to /root/.cache/huggingface/datasets/xnli/th/1.1.0/51ba3a1091acf33fd7c2a54bcbeeee1b1df3ecb127fdca003d31968fa3a1e6a8...\n"
     ]
    },
    {
     "data": {
      "application/vnd.jupyter.widget-view+json": {
       "model_id": "fdd662cd89de4eb390f1b403be737ffa",
       "version_major": 2,
       "version_minor": 0
      },
      "text/plain": [
       "HBox(children=(FloatProgress(value=0.0, description='Downloading', max=466098360.0, style=ProgressStyle(descri…"
      ]
     },
     "metadata": {},
     "output_type": "display_data"
    },
    {
     "name": "stdout",
     "output_type": "stream",
     "text": [
      "\n"
     ]
    },
    {
     "data": {
      "application/vnd.jupyter.widget-view+json": {
       "model_id": "e5f67509691c498ba54a809edc107863",
       "version_major": 2,
       "version_minor": 0
      },
      "text/plain": [
       "HBox(children=(FloatProgress(value=0.0, description='Downloading', max=17865352.0, style=ProgressStyle(descrip…"
      ]
     },
     "metadata": {},
     "output_type": "display_data"
    },
    {
     "name": "stdout",
     "output_type": "stream",
     "text": [
      "\n"
     ]
    },
    {
     "data": {
      "application/vnd.jupyter.widget-view+json": {
       "model_id": "",
       "version_major": 2,
       "version_minor": 0
      },
      "text/plain": [
       "HBox(children=(FloatProgress(value=1.0, bar_style='info', layout=Layout(width='20px'), max=1.0), HTML(value=''…"
      ]
     },
     "metadata": {},
     "output_type": "display_data"
    },
    {
     "data": {
      "application/vnd.jupyter.widget-view+json": {
       "model_id": "",
       "version_major": 2,
       "version_minor": 0
      },
      "text/plain": [
       "HBox(children=(FloatProgress(value=1.0, bar_style='info', layout=Layout(width='20px'), max=1.0), HTML(value=''…"
      ]
     },
     "metadata": {},
     "output_type": "display_data"
    },
    {
     "data": {
      "application/vnd.jupyter.widget-view+json": {
       "model_id": "",
       "version_major": 2,
       "version_minor": 0
      },
      "text/plain": [
       "HBox(children=(FloatProgress(value=1.0, bar_style='info', layout=Layout(width='20px'), max=1.0), HTML(value=''…"
      ]
     },
     "metadata": {},
     "output_type": "display_data"
    },
    {
     "name": "stdout",
     "output_type": "stream",
     "text": [
      "Dataset xnli downloaded and prepared to /root/.cache/huggingface/datasets/xnli/th/1.1.0/51ba3a1091acf33fd7c2a54bcbeeee1b1df3ecb127fdca003d31968fa3a1e6a8. Subsequent calls will reuse this data.\n"
     ]
    }
   ],
   "source": [
    "xnli_th_data = load_dataset('xnli', 'th')"
   ]
  },
  {
   "cell_type": "code",
   "execution_count": 9,
   "metadata": {},
   "outputs": [],
   "source": [
    "xnli_th_data_dict = dict()\n",
    "for dataset in xnli_th_data:\n",
    "    instance_dict_list = list()\n",
    "    for instance in xnli_th_data[dataset]:\n",
    "        instance_dict_list.append(instance)\n",
    "    xnli_th_data_dict[dataset] = pd.DataFrame(instance_dict_list)[['premise', 'hypothesis', 'label']]"
   ]
  },
  {
   "cell_type": "code",
   "execution_count": 10,
   "metadata": {},
   "outputs": [
    {
     "name": "stdout",
     "output_type": "stream",
     "text": [
      "train (392702, 3)\n"
     ]
    },
    {
     "data": {
      "text/html": [
       "<div>\n",
       "<style scoped>\n",
       "    .dataframe tbody tr th:only-of-type {\n",
       "        vertical-align: middle;\n",
       "    }\n",
       "\n",
       "    .dataframe tbody tr th {\n",
       "        vertical-align: top;\n",
       "    }\n",
       "\n",
       "    .dataframe thead th {\n",
       "        text-align: right;\n",
       "    }\n",
       "</style>\n",
       "<table border=\"1\" class=\"dataframe\">\n",
       "  <thead>\n",
       "    <tr style=\"text-align: right;\">\n",
       "      <th></th>\n",
       "      <th>premise</th>\n",
       "      <th>hypothesis</th>\n",
       "      <th>label</th>\n",
       "    </tr>\n",
       "  </thead>\n",
       "  <tbody>\n",
       "    <tr>\n",
       "      <th>0</th>\n",
       "      <td>ท่า ครีม ยักยอก มี สอง มิติ พื้นฐาน   -   สินค...</td>\n",
       "      <td>สินค้า และ ภูมิศาสตร์ คือ สิ่ง ที่ ทำให้ ครีม ...</td>\n",
       "      <td>1</td>\n",
       "    </tr>\n",
       "    <tr>\n",
       "      <th>1</th>\n",
       "      <td>คุณ รู้ ว่า ใน ช่วง ฤดูกาล และ ฉัน เดา ว่า ใน ...</td>\n",
       "      <td>คุณ สูญเสีย สิ่ง ต่างๆ ไป ใน ระดับ ต่อไปนี้ หา...</td>\n",
       "      <td>0</td>\n",
       "    </tr>\n",
       "    <tr>\n",
       "      <th>2</th>\n",
       "      <td>หนึ่ง ใน หมายเลข ของ เรา จะ ดำเนินการ ให้ คำแน...</td>\n",
       "      <td>สมาชิก ใน ทีม ของ ฉัน จะ ทำ ตามคำสั่ง ของ คุณ ...</td>\n",
       "      <td>0</td>\n",
       "    </tr>\n",
       "    <tr>\n",
       "      <th>3</th>\n",
       "      <td>รุ้ ได้ ไง ทั้งหมด นี้ คือ ข้อมูล ของ พวกเขา อ...</td>\n",
       "      <td>ข้อมูล นี้ เป็น ของ พวกเขา</td>\n",
       "      <td>0</td>\n",
       "    </tr>\n",
       "    <tr>\n",
       "      <th>4</th>\n",
       "      <td>ใช่ ฉัน จะ บอก คุณ ว่า ถ้า คุณ ไป ราคา บางส่วน...</td>\n",
       "      <td>รองเท้า เทนนิส มี ช่วง ของ ราคา</td>\n",
       "      <td>1</td>\n",
       "    </tr>\n",
       "  </tbody>\n",
       "</table>\n",
       "</div>"
      ],
      "text/plain": [
       "                                             premise  \\\n",
       "0  ท่า ครีม ยักยอก มี สอง มิติ พื้นฐาน   -   สินค...   \n",
       "1  คุณ รู้ ว่า ใน ช่วง ฤดูกาล และ ฉัน เดา ว่า ใน ...   \n",
       "2  หนึ่ง ใน หมายเลข ของ เรา จะ ดำเนินการ ให้ คำแน...   \n",
       "3  รุ้ ได้ ไง ทั้งหมด นี้ คือ ข้อมูล ของ พวกเขา อ...   \n",
       "4  ใช่ ฉัน จะ บอก คุณ ว่า ถ้า คุณ ไป ราคา บางส่วน...   \n",
       "\n",
       "                                          hypothesis  label  \n",
       "0  สินค้า และ ภูมิศาสตร์ คือ สิ่ง ที่ ทำให้ ครีม ...      1  \n",
       "1  คุณ สูญเสีย สิ่ง ต่างๆ ไป ใน ระดับ ต่อไปนี้ หา...      0  \n",
       "2  สมาชิก ใน ทีม ของ ฉัน จะ ทำ ตามคำสั่ง ของ คุณ ...      0  \n",
       "3                         ข้อมูล นี้ เป็น ของ พวกเขา      0  \n",
       "4                    รองเท้า เทนนิส มี ช่วง ของ ราคา      1  "
      ]
     },
     "metadata": {},
     "output_type": "display_data"
    },
    {
     "name": "stdout",
     "output_type": "stream",
     "text": [
      "test (5010, 3)\n"
     ]
    },
    {
     "data": {
      "text/html": [
       "<div>\n",
       "<style scoped>\n",
       "    .dataframe tbody tr th:only-of-type {\n",
       "        vertical-align: middle;\n",
       "    }\n",
       "\n",
       "    .dataframe tbody tr th {\n",
       "        vertical-align: top;\n",
       "    }\n",
       "\n",
       "    .dataframe thead th {\n",
       "        text-align: right;\n",
       "    }\n",
       "</style>\n",
       "<table border=\"1\" class=\"dataframe\">\n",
       "  <thead>\n",
       "    <tr style=\"text-align: right;\">\n",
       "      <th></th>\n",
       "      <th>premise</th>\n",
       "      <th>hypothesis</th>\n",
       "      <th>label</th>\n",
       "    </tr>\n",
       "  </thead>\n",
       "  <tbody>\n",
       "    <tr>\n",
       "      <th>0</th>\n",
       "      <td>ดี, ฉันไม่ได้คิดอะไรเกี่ยวกับเรื่องนี้, แต่ฉัน...</td>\n",
       "      <td>ฉันไม่ได้คุยกับเขาอีกเลย</td>\n",
       "      <td>2</td>\n",
       "    </tr>\n",
       "    <tr>\n",
       "      <th>1</th>\n",
       "      <td>ดี, ฉันไม่ได้คิดอะไรเกี่ยวกับเรื่องนี้, แต่ฉัน...</td>\n",
       "      <td>ฉันรู้สึกเเย่มากที่ฉันกำลังเริ่มที่จะคุยกับเขา...</td>\n",
       "      <td>0</td>\n",
       "    </tr>\n",
       "    <tr>\n",
       "      <th>2</th>\n",
       "      <td>ดี, ฉันไม่ได้คิดอะไรเกี่ยวกับเรื่องนี้, แต่ฉัน...</td>\n",
       "      <td>พวกเราคุยกันได้ถูกคอจริงๆ</td>\n",
       "      <td>1</td>\n",
       "    </tr>\n",
       "    <tr>\n",
       "      <th>3</th>\n",
       "      <td>และฉันนึกว่านั้นเป็นสิทธิพิเศษและมันยังคงเป็น ...</td>\n",
       "      <td>ฉันไม่รู้เลยว่าฉันไม่ใช่เเค่คนเดียวที่อยู่ที่ไ...</td>\n",
       "      <td>1</td>\n",
       "    </tr>\n",
       "    <tr>\n",
       "      <th>4</th>\n",
       "      <td>และฉันนึกว่านั้นเป็นสิทธิพิเศษและมันยังคงเป็น ...</td>\n",
       "      <td>ฉันเข้าใจว่าฉันคือคนเดียวที่มีเลขที่ AFFC สาขา...</td>\n",
       "      <td>0</td>\n",
       "    </tr>\n",
       "  </tbody>\n",
       "</table>\n",
       "</div>"
      ],
      "text/plain": [
       "                                             premise  \\\n",
       "0  ดี, ฉันไม่ได้คิดอะไรเกี่ยวกับเรื่องนี้, แต่ฉัน...   \n",
       "1  ดี, ฉันไม่ได้คิดอะไรเกี่ยวกับเรื่องนี้, แต่ฉัน...   \n",
       "2  ดี, ฉันไม่ได้คิดอะไรเกี่ยวกับเรื่องนี้, แต่ฉัน...   \n",
       "3  และฉันนึกว่านั้นเป็นสิทธิพิเศษและมันยังคงเป็น ...   \n",
       "4  และฉันนึกว่านั้นเป็นสิทธิพิเศษและมันยังคงเป็น ...   \n",
       "\n",
       "                                          hypothesis  label  \n",
       "0                           ฉันไม่ได้คุยกับเขาอีกเลย      2  \n",
       "1  ฉันรู้สึกเเย่มากที่ฉันกำลังเริ่มที่จะคุยกับเขา...      0  \n",
       "2                          พวกเราคุยกันได้ถูกคอจริงๆ      1  \n",
       "3  ฉันไม่รู้เลยว่าฉันไม่ใช่เเค่คนเดียวที่อยู่ที่ไ...      1  \n",
       "4  ฉันเข้าใจว่าฉันคือคนเดียวที่มีเลขที่ AFFC สาขา...      0  "
      ]
     },
     "metadata": {},
     "output_type": "display_data"
    },
    {
     "name": "stdout",
     "output_type": "stream",
     "text": [
      "validation (2490, 3)\n"
     ]
    },
    {
     "data": {
      "text/html": [
       "<div>\n",
       "<style scoped>\n",
       "    .dataframe tbody tr th:only-of-type {\n",
       "        vertical-align: middle;\n",
       "    }\n",
       "\n",
       "    .dataframe tbody tr th {\n",
       "        vertical-align: top;\n",
       "    }\n",
       "\n",
       "    .dataframe thead th {\n",
       "        text-align: right;\n",
       "    }\n",
       "</style>\n",
       "<table border=\"1\" class=\"dataframe\">\n",
       "  <thead>\n",
       "    <tr style=\"text-align: right;\">\n",
       "      <th></th>\n",
       "      <th>premise</th>\n",
       "      <th>hypothesis</th>\n",
       "      <th>label</th>\n",
       "    </tr>\n",
       "  </thead>\n",
       "  <tbody>\n",
       "    <tr>\n",
       "      <th>0</th>\n",
       "      <td>และเขาพูดว่า, ม่าม๊า ผมอยู่บ้าน</td>\n",
       "      <td>เขาโทรหาเเม่ของเขาอย่างรวดเร็วหลังจากที่รถโรงเ...</td>\n",
       "      <td>1</td>\n",
       "    </tr>\n",
       "    <tr>\n",
       "      <th>1</th>\n",
       "      <td>และเขาพูดว่า, ม่าม๊า ผมอยู่บ้าน</td>\n",
       "      <td>เขาไม่ได้พูดสักคำ</td>\n",
       "      <td>2</td>\n",
       "    </tr>\n",
       "    <tr>\n",
       "      <th>2</th>\n",
       "      <td>และเขาพูดว่า, ม่าม๊า ผมอยู่บ้าน</td>\n",
       "      <td>เขาบอกเเม่เขาว่าเขาถึงบ้านเเล้ว</td>\n",
       "      <td>0</td>\n",
       "    </tr>\n",
       "    <tr>\n",
       "      <th>3</th>\n",
       "      <td>ฉันไม่รู้ว่าฉันไปเพื่ออะไรหรือเพื่อสิ่งใด ดังน...</td>\n",
       "      <td>ฉันไม่เคยไป กรุงวอชิงตันมาก่อนเลย เพราะเช่นนั้...</td>\n",
       "      <td>1</td>\n",
       "    </tr>\n",
       "    <tr>\n",
       "      <th>4</th>\n",
       "      <td>ฉันไม่รู้ว่าฉันไปเพื่ออะไรหรือเพื่อสิ่งใด ดังน...</td>\n",
       "      <td>ฉันรู้อยู่เเล้วว่าฉันจะต้องทำยังไงจะปรับตัวกับ...</td>\n",
       "      <td>2</td>\n",
       "    </tr>\n",
       "  </tbody>\n",
       "</table>\n",
       "</div>"
      ],
      "text/plain": [
       "                                             premise  \\\n",
       "0                    และเขาพูดว่า, ม่าม๊า ผมอยู่บ้าน   \n",
       "1                    และเขาพูดว่า, ม่าม๊า ผมอยู่บ้าน   \n",
       "2                    และเขาพูดว่า, ม่าม๊า ผมอยู่บ้าน   \n",
       "3  ฉันไม่รู้ว่าฉันไปเพื่ออะไรหรือเพื่อสิ่งใด ดังน...   \n",
       "4  ฉันไม่รู้ว่าฉันไปเพื่ออะไรหรือเพื่อสิ่งใด ดังน...   \n",
       "\n",
       "                                          hypothesis  label  \n",
       "0  เขาโทรหาเเม่ของเขาอย่างรวดเร็วหลังจากที่รถโรงเ...      1  \n",
       "1                                  เขาไม่ได้พูดสักคำ      2  \n",
       "2                    เขาบอกเเม่เขาว่าเขาถึงบ้านเเล้ว      0  \n",
       "3  ฉันไม่เคยไป กรุงวอชิงตันมาก่อนเลย เพราะเช่นนั้...      1  \n",
       "4  ฉันรู้อยู่เเล้วว่าฉันจะต้องทำยังไงจะปรับตัวกับ...      2  "
      ]
     },
     "metadata": {},
     "output_type": "display_data"
    }
   ],
   "source": [
    "for df in xnli_th_data_dict:\n",
    "    print(df, xnli_th_data_dict[df].shape)\n",
    "    display(xnli_th_data_dict[df].head())"
   ]
  },
  {
   "cell_type": "code",
   "execution_count": 11,
   "metadata": {},
   "outputs": [],
   "source": [
    "TEST_SIZE = 0.25\n",
    "\n",
    "X_train_df, X_val_df , y_train_ser, y_val_ser = train_test_split(train_data[['premise', 'hypothesis']], train_data['label'], test_size=TEST_SIZE, random_state=SEED)"
   ]
  },
  {
   "cell_type": "code",
   "execution_count": 12,
   "metadata": {},
   "outputs": [
    {
     "data": {
      "text/html": [
       "<div>\n",
       "<style scoped>\n",
       "    .dataframe tbody tr th:only-of-type {\n",
       "        vertical-align: middle;\n",
       "    }\n",
       "\n",
       "    .dataframe tbody tr th {\n",
       "        vertical-align: top;\n",
       "    }\n",
       "\n",
       "    .dataframe thead th {\n",
       "        text-align: right;\n",
       "    }\n",
       "</style>\n",
       "<table border=\"1\" class=\"dataframe\">\n",
       "  <thead>\n",
       "    <tr style=\"text-align: right;\">\n",
       "      <th></th>\n",
       "      <th>premise</th>\n",
       "      <th>hypothesis</th>\n",
       "      <th>label</th>\n",
       "    </tr>\n",
       "  </thead>\n",
       "  <tbody>\n",
       "    <tr>\n",
       "      <th>0</th>\n",
       "      <td>สหรัฐฯเคยปกป้องและยังคงปกป้องชาวมุสลิมจากเหล่า...</td>\n",
       "      <td>ชาวมุสลิมในโซมาเลียบางครั้งถูกคุกคามโดยเผด็จการ</td>\n",
       "      <td>0</td>\n",
       "    </tr>\n",
       "    <tr>\n",
       "      <th>1</th>\n",
       "      <td>uh right now we're actually having uh it's get...</td>\n",
       "      <td>Temperatures are still below the freezing poin...</td>\n",
       "      <td>2</td>\n",
       "    </tr>\n",
       "    <tr>\n",
       "      <th>2</th>\n",
       "      <td>I see, said Tuppence thoughtfully.</td>\n",
       "      <td>\"I understand,\" said Tuppence after taking a q...</td>\n",
       "      <td>1</td>\n",
       "    </tr>\n",
       "    <tr>\n",
       "      <th>3</th>\n",
       "      <td>well that's pretty typical though uh i don't u...</td>\n",
       "      <td>It's pretty normal to have a few hundred degre...</td>\n",
       "      <td>0</td>\n",
       "    </tr>\n",
       "    <tr>\n",
       "      <th>4</th>\n",
       "      <td>ภรรยาของฉันพูดว่า,  ขยักคิ้วขึ้น</td>\n",
       "      <td>ภรรยาของตาเหล่ขณะที่เธอพูด</td>\n",
       "      <td>2</td>\n",
       "    </tr>\n",
       "  </tbody>\n",
       "</table>\n",
       "</div>"
      ],
      "text/plain": [
       "                                             premise  \\\n",
       "0  สหรัฐฯเคยปกป้องและยังคงปกป้องชาวมุสลิมจากเหล่า...   \n",
       "1  uh right now we're actually having uh it's get...   \n",
       "2                 I see, said Tuppence thoughtfully.   \n",
       "3  well that's pretty typical though uh i don't u...   \n",
       "4                   ภรรยาของฉันพูดว่า,  ขยักคิ้วขึ้น   \n",
       "\n",
       "                                          hypothesis  label  \n",
       "0    ชาวมุสลิมในโซมาเลียบางครั้งถูกคุกคามโดยเผด็จการ      0  \n",
       "1  Temperatures are still below the freezing poin...      2  \n",
       "2  \"I understand,\" said Tuppence after taking a q...      1  \n",
       "3  It's pretty normal to have a few hundred degre...      0  \n",
       "4                         ภรรยาของตาเหล่ขณะที่เธอพูด      2  "
      ]
     },
     "execution_count": 12,
     "metadata": {},
     "output_type": "execute_result"
    }
   ],
   "source": [
    "all_train_df = X_train_df\n",
    "all_train_df['label'] = y_train_ser\n",
    "all_train_df = all_train_df.append(xnli_th_data_dict['validation'])\n",
    "all_train_df = all_train_df.sample(frac=1, random_state=SEED).reset_index(drop=True)\n",
    "all_train_df.head()"
   ]
  },
  {
   "cell_type": "code",
   "execution_count": 13,
   "metadata": {},
   "outputs": [],
   "source": [
    "X_train = all_train_df[['premise', 'hypothesis']].values.tolist()\n",
    "y_train = all_train_df['label'].values\n",
    "\n",
    "X_val = X_val_df.values.tolist()\n",
    "y_val = y_val_ser.values"
   ]
  },
  {
   "cell_type": "code",
   "execution_count": 14,
   "metadata": {},
   "outputs": [
    {
     "data": {
      "application/vnd.jupyter.widget-view+json": {
       "model_id": "47d15c15142c493987d3f21ceae44391",
       "version_major": 2,
       "version_minor": 0
      },
      "text/plain": [
       "HBox(children=(FloatProgress(value=0.0, description='Downloading', max=734.0, style=ProgressStyle(description_…"
      ]
     },
     "metadata": {},
     "output_type": "display_data"
    },
    {
     "name": "stdout",
     "output_type": "stream",
     "text": [
      "\n"
     ]
    },
    {
     "data": {
      "application/vnd.jupyter.widget-view+json": {
       "model_id": "00fa0b8f43d341448c74222e6b593d08",
       "version_major": 2,
       "version_minor": 0
      },
      "text/plain": [
       "HBox(children=(FloatProgress(value=0.0, description='Downloading', max=5069051.0, style=ProgressStyle(descript…"
      ]
     },
     "metadata": {},
     "output_type": "display_data"
    },
    {
     "name": "stdout",
     "output_type": "stream",
     "text": [
      "\n"
     ]
    },
    {
     "data": {
      "application/vnd.jupyter.widget-view+json": {
       "model_id": "51246d968654407bbaeb925f573e82e8",
       "version_major": 2,
       "version_minor": 0
      },
      "text/plain": [
       "HBox(children=(FloatProgress(value=0.0, description='Downloading', max=150.0, style=ProgressStyle(description_…"
      ]
     },
     "metadata": {},
     "output_type": "display_data"
    },
    {
     "name": "stdout",
     "output_type": "stream",
     "text": [
      "\n"
     ]
    },
    {
     "data": {
      "application/vnd.jupyter.widget-view+json": {
       "model_id": "e139ed7802a94d8785aaee1bf3948fb6",
       "version_major": 2,
       "version_minor": 0
      },
      "text/plain": [
       "HBox(children=(FloatProgress(value=0.0, description='Downloading', max=25.0, style=ProgressStyle(description_w…"
      ]
     },
     "metadata": {},
     "output_type": "display_data"
    },
    {
     "name": "stdout",
     "output_type": "stream",
     "text": [
      "\n"
     ]
    }
   ],
   "source": [
    "XLM_ROBERTA_PATH = 'joeddav/xlm-roberta-large-xnli'\n",
    "\n",
    "tokenizer = AutoTokenizer.from_pretrained(XLM_ROBERTA_PATH, use_fast=False) # default (True) now return XLMRobertaTokenizerFast"
   ]
  },
  {
   "cell_type": "code",
   "execution_count": 15,
   "metadata": {},
   "outputs": [],
   "source": [
    "MAX_SENTENCE_LEN = 120\n",
    "\n",
    "def tokenize_sentence(text, tokenizer):\n",
    "    encoded_sentences = tokenizer(text, \n",
    "                                    padding='max_length', \n",
    "                                    max_length=MAX_SENTENCE_LEN, \n",
    "                                    truncation=True)\n",
    "    return np.array(encoded_sentences['input_ids'])"
   ]
  },
  {
   "cell_type": "code",
   "execution_count": 16,
   "metadata": {
    "id": "7dmlY90IpkFw"
   },
   "outputs": [],
   "source": [
    "X_train_tokenized = tokenize_sentence(X_train, tokenizer)\n",
    "X_val_tokenized = tokenize_sentence(X_val, tokenizer)"
   ]
  },
  {
   "cell_type": "code",
   "execution_count": 17,
   "metadata": {
    "id": "95TqSL4wpkFs",
    "outputId": "743270e5-1ef5-42f8-a76f-ce4dafc32f48"
   },
   "outputs": [],
   "source": [
    "BATCH_SIZE = 16 * strategy.num_replicas_in_sync\n",
    "\n",
    "try:\n",
    "    prefetch_buffer_size = tf.data.AUTOTUNE # tensorflow 2.4 on default gcolab\n",
    "except:\n",
    "    prefetch_buffer_size = tf.data.experimental.AUTOTUNE # tensorflow 2.2.0 on default kaggle\n",
    "else:\n",
    "    prefetch_buffer_size = BATCH_SIZE # if fail then just fetch what ever you got next\n",
    "\n",
    "def build_dataset(x, y, mode, batch_size, prefetch_buffer_size, shuffle_buffer_size=None):\n",
    "    if mode == \"train\":\n",
    "        dataset = (\n",
    "            tf.data.Dataset\n",
    "            .from_tensor_slices((x, y))\n",
    "            .shuffle(buffer_size=shuffle_buffer_size, seed=SEED) # Shuffle in the buffer for ultimate joy only. Actually pointless in this case.\n",
    "            .repeat() # count=None to iterate indefinitely\n",
    "            .batch(batch_size) # output as batch for each step\n",
    "            .prefetch(prefetch_buffer_size) # prefetch for faster pipeline\n",
    "        )\n",
    "    elif mode == \"valid\":\n",
    "        dataset = (\n",
    "            tf.data.Dataset\n",
    "            .from_tensor_slices((x, y))\n",
    "            .batch(batch_size)\n",
    "            .prefetch(prefetch_buffer_size)\n",
    "        )\n",
    "    elif mode == \"test\":\n",
    "        dataset = (\n",
    "            tf.data.Dataset\n",
    "            .from_tensor_slices(x)\n",
    "            .batch(batch_size)\n",
    "            .prefetch(prefetch_buffer_size)\n",
    "        )\n",
    "    else:\n",
    "        print('STOP! What are you doing, step-user?')\n",
    "        raise NotImplementedError\n",
    "    return dataset"
   ]
  },
  {
   "cell_type": "code",
   "execution_count": 18,
   "metadata": {},
   "outputs": [],
   "source": [
    "train_dataset = build_dataset(X_train_tokenized, y_train, \"train\",\n",
    "                              batch_size=BATCH_SIZE,\n",
    "                              prefetch_buffer_size=prefetch_buffer_size,\n",
    "                              shuffle_buffer_size=len(X_train_tokenized))\n",
    "\n",
    "valid_dataset = build_dataset(X_val_tokenized, y_val, \"valid\",\n",
    "                              batch_size=BATCH_SIZE,\n",
    "                              prefetch_buffer_size=prefetch_buffer_size)"
   ]
  },
  {
   "cell_type": "code",
   "execution_count": 19,
   "metadata": {
    "id": "dv--kxZepkFt"
   },
   "outputs": [],
   "source": [
    "def chain_compile_transformer(transformer_model, learning_rate):\n",
    "    # chain them up\n",
    "    input_ids = keras.Input(shape=(MAX_SENTENCE_LEN,), dtype=tf.int32)\n",
    "    transformer_model = transformer_model([input_ids])[0]\n",
    "    transformer_model = keras.layers.GlobalAveragePooling1D()(transformer_model)\n",
    "    outputs = keras.layers.Dense(3, activation='softmax')(transformer_model)\n",
    "\n",
    "    my_model = keras.Model(inputs=input_ids, outputs=outputs)\n",
    "    my_model.layers[1].layers[0].trainable = False\n",
    "    \n",
    "    my_model.compile(optimizer=keras.optimizers.Adam(lr=learning_rate), \n",
    "                        loss='sparse_categorical_crossentropy', \n",
    "                        metrics=['accuracy'])\n",
    "    return my_model\n",
    "\n",
    "def create_transformer_model(transformer_path, learning_rate):\n",
    "    keras.backend.clear_session()\n",
    "    with strategy.scope():\n",
    "        transformer_model = TFAutoModel.from_pretrained(transformer_path)\n",
    "        model = chain_compile_transformer(transformer_model, learning_rate)\n",
    "    \n",
    "    model.summary()\n",
    "    return model"
   ]
  },
  {
   "cell_type": "code",
   "execution_count": 20,
   "metadata": {
    "id": "wB_1_c-GpkFx",
    "outputId": "5d4a8df3-10f3-4d6e-d8f3-4d4b08846f65"
   },
   "outputs": [
    {
     "data": {
      "application/vnd.jupyter.widget-view+json": {
       "model_id": "11fa0a200b5f492da28bf95b21bda8be",
       "version_major": 2,
       "version_minor": 0
      },
      "text/plain": [
       "HBox(children=(FloatProgress(value=0.0, description='Downloading', max=2244296816.0, style=ProgressStyle(descr…"
      ]
     },
     "metadata": {},
     "output_type": "display_data"
    },
    {
     "name": "stdout",
     "output_type": "stream",
     "text": [
      "\n",
      "Model: \"model\"\n",
      "_________________________________________________________________\n",
      "Layer (type)                 Output Shape              Param #   \n",
      "=================================================================\n",
      "input_1 (InputLayer)         [(None, 120)]             0         \n",
      "_________________________________________________________________\n",
      "tf_roberta_model (TFRobertaM ((None, 120, 1024), (None 559890432 \n",
      "_________________________________________________________________\n",
      "global_average_pooling1d (Gl (None, 1024)              0         \n",
      "_________________________________________________________________\n",
      "dense (Dense)                (None, 3)                 3075      \n",
      "=================================================================\n",
      "Total params: 559,893,507\n",
      "Trainable params: 3,075\n",
      "Non-trainable params: 559,890,432\n",
      "_________________________________________________________________\n"
     ]
    }
   ],
   "source": [
    "my_xlm = create_transformer_model(XLM_ROBERTA_PATH, 1e-5)"
   ]
  },
  {
   "cell_type": "code",
   "execution_count": 21,
   "metadata": {},
   "outputs": [],
   "source": [
    "def fit_model(model, train_dataset, valid_dataset, steps_per_epoch, epochs, additional_callbacks=None):\n",
    "    callbacks = [keras.callbacks.EarlyStopping(monitor='val_loss',\n",
    "                                                patience=epochs,\n",
    "                                                restore_best_weights=True)\n",
    "                ]\n",
    "    if (not (additional_callbacks is None)):\n",
    "        callbacks = callbacks + additional_callbacks\n",
    "    \n",
    "    model_history = model.fit(train_dataset,\n",
    "                                validation_data=valid_dataset,\n",
    "                                steps_per_epoch=steps_per_epoch,\n",
    "                                epochs=epochs, \n",
    "                                callbacks=callbacks)\n",
    "    return model_history"
   ]
  },
  {
   "cell_type": "code",
   "execution_count": 22,
   "metadata": {
    "id": "4Qyg2ORepkFx",
    "outputId": "cc30d09e-637e-473c-e25e-6186afedaac2"
   },
   "outputs": [
    {
     "name": "stdout",
     "output_type": "stream",
     "text": [
      "Epoch 1/20\n",
      "90/90 [==============================] - 80s 387ms/step - loss: 1.9293 - accuracy: 0.2903 - val_loss: 1.9203 - val_accuracy: 0.2746\n",
      "Epoch 2/20\n",
      "90/90 [==============================] - 7s 83ms/step - loss: 1.6323 - accuracy: 0.2941 - val_loss: 1.6420 - val_accuracy: 0.2825\n",
      "Epoch 3/20\n",
      "90/90 [==============================] - 8s 84ms/step - loss: 1.3978 - accuracy: 0.3046 - val_loss: 1.4045 - val_accuracy: 0.2931\n",
      "Epoch 4/20\n",
      "90/90 [==============================] - 8s 85ms/step - loss: 1.2132 - accuracy: 0.3496 - val_loss: 1.2041 - val_accuracy: 0.3719\n",
      "Epoch 5/20\n",
      "90/90 [==============================] - 8s 84ms/step - loss: 1.0546 - accuracy: 0.4898 - val_loss: 1.0385 - val_accuracy: 0.5106\n",
      "Epoch 6/20\n",
      "90/90 [==============================] - 8s 84ms/step - loss: 0.9386 - accuracy: 0.5661 - val_loss: 0.9024 - val_accuracy: 0.5927\n",
      "Epoch 7/20\n",
      "90/90 [==============================] - 8s 84ms/step - loss: 0.8395 - accuracy: 0.6249 - val_loss: 0.7904 - val_accuracy: 0.6502\n",
      "Epoch 8/20\n",
      "90/90 [==============================] - 7s 83ms/step - loss: 0.7558 - accuracy: 0.7030 - val_loss: 0.7029 - val_accuracy: 0.7129\n",
      "Epoch 9/20\n",
      "90/90 [==============================] - 8s 85ms/step - loss: 0.6954 - accuracy: 0.7768 - val_loss: 0.6326 - val_accuracy: 0.7693\n",
      "Epoch 10/20\n",
      "90/90 [==============================] - 8s 84ms/step - loss: 0.6463 - accuracy: 0.8090 - val_loss: 0.5777 - val_accuracy: 0.8188\n",
      "Epoch 11/20\n",
      "90/90 [==============================] - 8s 95ms/step - loss: 0.6039 - accuracy: 0.8325 - val_loss: 0.5354 - val_accuracy: 0.8512\n",
      "Epoch 12/20\n",
      "90/90 [==============================] - 8s 85ms/step - loss: 0.5799 - accuracy: 0.8477 - val_loss: 0.4994 - val_accuracy: 0.8650\n",
      "Epoch 13/20\n",
      "90/90 [==============================] - 8s 84ms/step - loss: 0.5430 - accuracy: 0.8566 - val_loss: 0.4718 - val_accuracy: 0.8739\n",
      "Epoch 14/20\n",
      "90/90 [==============================] - 8s 84ms/step - loss: 0.5329 - accuracy: 0.8590 - val_loss: 0.4494 - val_accuracy: 0.8792\n",
      "Epoch 15/20\n",
      "90/90 [==============================] - 8s 85ms/step - loss: 0.5050 - accuracy: 0.8622 - val_loss: 0.4300 - val_accuracy: 0.8782\n",
      "Epoch 16/20\n",
      "90/90 [==============================] - 8s 84ms/step - loss: 0.5023 - accuracy: 0.8639 - val_loss: 0.4149 - val_accuracy: 0.8815\n",
      "Epoch 17/20\n",
      "90/90 [==============================] - 7s 83ms/step - loss: 0.4802 - accuracy: 0.8664 - val_loss: 0.4018 - val_accuracy: 0.8855\n",
      "Epoch 18/20\n",
      "90/90 [==============================] - 7s 83ms/step - loss: 0.4638 - accuracy: 0.8669 - val_loss: 0.3908 - val_accuracy: 0.8865\n",
      "Epoch 19/20\n",
      "90/90 [==============================] - 7s 83ms/step - loss: 0.4596 - accuracy: 0.8639 - val_loss: 0.3820 - val_accuracy: 0.8878\n",
      "Epoch 20/20\n",
      "90/90 [==============================] - 8s 84ms/step - loss: 0.4433 - accuracy: 0.8734 - val_loss: 0.3739 - val_accuracy: 0.8921\n"
     ]
    }
   ],
   "source": [
    "epochs = 20\n",
    "steps_per_epoch = len(X_train) // BATCH_SIZE\n",
    "\n",
    "my_xlm_history = fit_model(my_xlm, train_dataset, valid_dataset, steps_per_epoch, epochs)"
   ]
  },
  {
   "cell_type": "code",
   "execution_count": 23,
   "metadata": {},
   "outputs": [
    {
     "data": {
      "image/png": "[encoded data removed]",
      "text/plain": [
       "<Figure size 432x288 with 1 Axes>"
      ]
     },
     "metadata": {
      "needs_background": "light"
     },
     "output_type": "display_data"
    },
    {
     "data": {
      "image/png": "[encoded data removed]",
      "text/plain": [
       "<Figure size 432x288 with 1 Axes>"
      ]
     },
     "metadata": {
      "needs_background": "light"
     },
     "output_type": "display_data"
    }
   ],
   "source": [
    "# Accuracy\n",
    "plt.plot(my_xlm_history.history['accuracy'])\n",
    "plt.plot(my_xlm_history.history['val_accuracy'])\n",
    "plt.title('Model Accuracy')\n",
    "plt.ylabel('Accuracy')\n",
    "plt.xlabel('Epoch')\n",
    "plt.legend(['Train', 'Validation'], loc='upper left')\n",
    "plt.show()\n",
    "\n",
    "# loss\n",
    "plt.plot(my_xlm_history.history['loss'])\n",
    "plt.plot(my_xlm_history.history['val_loss'])\n",
    "plt.title('Model Loss')\n",
    "plt.ylabel('Loss')\n",
    "plt.xlabel('Epoch')\n",
    "plt.legend(['Train', 'Validation'], loc='upper left')\n",
    "plt.show()"
   ]
  },
  {
   "cell_type": "code",
   "execution_count": 24,
   "metadata": {},
   "outputs": [
    {
     "data": {
      "image/png": "[encoded data removed]",
      "text/plain": [
       "<Figure size 432x288 with 1 Axes>"
      ]
     },
     "metadata": {
      "needs_background": "light"
     },
     "output_type": "display_data"
    },
    {
     "data": {
      "image/png": "[encoded data removed]",
      "text/plain": [
       "<Figure size 432x288 with 1 Axes>"
      ]
     },
     "metadata": {
      "needs_background": "light"
     },
     "output_type": "display_data"
    }
   ],
   "source": [
    "# Accuracy\n",
    "plt.plot(my_xlm_history.history['accuracy'])\n",
    "plt.plot(my_xlm_history.history['val_accuracy'])\n",
    "plt.title('Model Accuracy')\n",
    "plt.ylabel('Accuracy')\n",
    "plt.xlabel('Epoch')\n",
    "plt.legend(['Train', 'Validation'], loc='upper left')\n",
    "plt.ylim(ymin=0, ymax=1)\n",
    "plt.xlim(xmin=0)\n",
    "plt.show()\n",
    "\n",
    "# loss\n",
    "plt.plot(my_xlm_history.history['loss'])\n",
    "plt.plot(my_xlm_history.history['val_loss'])\n",
    "plt.title('Model Loss')\n",
    "plt.ylabel('Loss')\n",
    "plt.xlabel('Epoch')\n",
    "plt.legend(['Train', 'Validation'], loc='upper left')\n",
    "plt.ylim(ymin=0)\n",
    "plt.xlim(xmin=0)\n",
    "plt.show()"
   ]
  },
  {
   "cell_type": "code",
   "execution_count": 25,
   "metadata": {},
   "outputs": [],
   "source": [
    "def unfreeze_model(model, learning_rate):\n",
    "    model.layers[1].layers[0].trainable = True\n",
    "    model.compile(optimizer=keras.optimizers.Adam(lr=learning_rate), \n",
    "                            loss='sparse_categorical_crossentropy', \n",
    "                            metrics=['accuracy'])\n",
    "    \n",
    "    model.summary()\n",
    "    return model"
   ]
  },
  {
   "cell_type": "code",
   "execution_count": 26,
   "metadata": {},
   "outputs": [
    {
     "name": "stdout",
     "output_type": "stream",
     "text": [
      "Model: \"model\"\n",
      "_________________________________________________________________\n",
      "Layer (type)                 Output Shape              Param #   \n",
      "=================================================================\n",
      "input_1 (InputLayer)         [(None, 120)]             0         \n",
      "_________________________________________________________________\n",
      "tf_roberta_model (TFRobertaM ((None, 120, 1024), (None 559890432 \n",
      "_________________________________________________________________\n",
      "global_average_pooling1d (Gl (None, 1024)              0         \n",
      "_________________________________________________________________\n",
      "dense (Dense)                (None, 3)                 3075      \n",
      "=================================================================\n",
      "Total params: 559,893,507\n",
      "Trainable params: 559,893,507\n",
      "Non-trainable params: 0\n",
      "_________________________________________________________________\n"
     ]
    }
   ],
   "source": [
    "my_xlm = unfreeze_model(my_xlm, 1e-5)"
   ]
  },
  {
   "cell_type": "code",
   "execution_count": 27,
   "metadata": {},
   "outputs": [
    {
     "name": "stdout",
     "output_type": "stream",
     "text": [
      "Epoch 1/5\n"
     ]
    },
    {
     "name": "stderr",
     "output_type": "stream",
     "text": [
      "/opt/conda/lib/python3.7/site-packages/tensorflow/python/framework/indexed_slices.py:430: UserWarning: Converting sparse IndexedSlices to a dense Tensor with 256002048 elements. This may consume a large amount of memory.\n",
      "  num_elements)\n"
     ]
    },
    {
     "name": "stdout",
     "output_type": "stream",
     "text": [
      "90/90 [==============================] - 203s 655ms/step - loss: 0.3056 - accuracy: 0.8941 - val_loss: 0.2125 - val_accuracy: 0.9304\n",
      "Epoch 2/5\n",
      "90/90 [==============================] - 25s 280ms/step - loss: 0.1349 - accuracy: 0.9553 - val_loss: 0.2221 - val_accuracy: 0.9320\n",
      "Epoch 3/5\n",
      "90/90 [==============================] - 25s 280ms/step - loss: 0.0966 - accuracy: 0.9672 - val_loss: 0.2848 - val_accuracy: 0.9264\n",
      "Epoch 4/5\n",
      "90/90 [==============================] - 25s 281ms/step - loss: 0.0522 - accuracy: 0.9840 - val_loss: 0.3214 - val_accuracy: 0.9290\n",
      "Epoch 5/5\n",
      "90/90 [==============================] - 25s 280ms/step - loss: 0.0449 - accuracy: 0.9859 - val_loss: 0.3057 - val_accuracy: 0.9327\n"
     ]
    }
   ],
   "source": [
    "epochs = 5\n",
    "steps_per_epoch = len(X_train) // BATCH_SIZE\n",
    "\n",
    "my_xlm_history = fit_model(my_xlm, train_dataset, valid_dataset, steps_per_epoch, epochs)"
   ]
  },
  {
   "cell_type": "code",
   "execution_count": 28,
   "metadata": {},
   "outputs": [
    {
     "data": {
      "image/png": "[encoded data removed]",
      "text/plain": [
       "<Figure size 432x288 with 1 Axes>"
      ]
     },
     "metadata": {
      "needs_background": "light"
     },
     "output_type": "display_data"
    },
    {
     "data": {
      "image/png": "[encoded data removed]",
      "text/plain": [
       "<Figure size 432x288 with 1 Axes>"
      ]
     },
     "metadata": {
      "needs_background": "light"
     },
     "output_type": "display_data"
    }
   ],
   "source": [
    "# Accuracy\n",
    "plt.plot(my_xlm_history.history['accuracy'])\n",
    "plt.plot(my_xlm_history.history['val_accuracy'])\n",
    "plt.title('Model Accuracy')\n",
    "plt.ylabel('Accuracy')\n",
    "plt.xlabel('Epoch')\n",
    "plt.legend(['Train', 'Validation'], loc='upper left')\n",
    "plt.ylim(ymin=0, ymax=1)\n",
    "plt.xlim(xmin=0)\n",
    "plt.show()\n",
    "\n",
    "# loss\n",
    "plt.plot(my_xlm_history.history['loss'])\n",
    "plt.plot(my_xlm_history.history['val_loss'])\n",
    "plt.title('Model Loss')\n",
    "plt.ylabel('Loss')\n",
    "plt.xlabel('Epoch')\n",
    "plt.legend(['Train', 'Validation'], loc='upper left')\n",
    "plt.ylim(ymin=0)\n",
    "plt.xlim(xmin=0)\n",
    "plt.show()"
   ]
  },
  {
   "cell_type": "code",
   "execution_count": 29,
   "metadata": {},
   "outputs": [
    {
     "data": {
      "text/html": [
       "<div>\n",
       "<style scoped>\n",
       "    .dataframe tbody tr th:only-of-type {\n",
       "        vertical-align: middle;\n",
       "    }\n",
       "\n",
       "    .dataframe tbody tr th {\n",
       "        vertical-align: top;\n",
       "    }\n",
       "\n",
       "    .dataframe thead th {\n",
       "        text-align: right;\n",
       "    }\n",
       "</style>\n",
       "<table border=\"1\" class=\"dataframe\">\n",
       "  <thead>\n",
       "    <tr style=\"text-align: right;\">\n",
       "      <th></th>\n",
       "      <th>premise</th>\n",
       "      <th>hypothesis</th>\n",
       "      <th>label</th>\n",
       "      <th>y_hat</th>\n",
       "    </tr>\n",
       "  </thead>\n",
       "  <tbody>\n",
       "    <tr>\n",
       "      <th>0</th>\n",
       "      <td>ดี, ฉันไม่ได้คิดอะไรเกี่ยวกับเรื่องนี้, แต่ฉัน...</td>\n",
       "      <td>ฉันไม่ได้คุยกับเขาอีกเลย</td>\n",
       "      <td>2</td>\n",
       "      <td>2</td>\n",
       "    </tr>\n",
       "    <tr>\n",
       "      <th>1</th>\n",
       "      <td>ดี, ฉันไม่ได้คิดอะไรเกี่ยวกับเรื่องนี้, แต่ฉัน...</td>\n",
       "      <td>ฉันรู้สึกเเย่มากที่ฉันกำลังเริ่มที่จะคุยกับเขา...</td>\n",
       "      <td>0</td>\n",
       "      <td>0</td>\n",
       "    </tr>\n",
       "    <tr>\n",
       "      <th>2</th>\n",
       "      <td>ดี, ฉันไม่ได้คิดอะไรเกี่ยวกับเรื่องนี้, แต่ฉัน...</td>\n",
       "      <td>พวกเราคุยกันได้ถูกคอจริงๆ</td>\n",
       "      <td>1</td>\n",
       "      <td>1</td>\n",
       "    </tr>\n",
       "    <tr>\n",
       "      <th>3</th>\n",
       "      <td>และฉันนึกว่านั้นเป็นสิทธิพิเศษและมันยังคงเป็น ...</td>\n",
       "      <td>ฉันไม่รู้เลยว่าฉันไม่ใช่เเค่คนเดียวที่อยู่ที่ไ...</td>\n",
       "      <td>1</td>\n",
       "      <td>1</td>\n",
       "    </tr>\n",
       "    <tr>\n",
       "      <th>4</th>\n",
       "      <td>และฉันนึกว่านั้นเป็นสิทธิพิเศษและมันยังคงเป็น ...</td>\n",
       "      <td>ฉันเข้าใจว่าฉันคือคนเดียวที่มีเลขที่ AFFC สาขา...</td>\n",
       "      <td>0</td>\n",
       "      <td>0</td>\n",
       "    </tr>\n",
       "  </tbody>\n",
       "</table>\n",
       "</div>"
      ],
      "text/plain": [
       "                                             premise  \\\n",
       "0  ดี, ฉันไม่ได้คิดอะไรเกี่ยวกับเรื่องนี้, แต่ฉัน...   \n",
       "1  ดี, ฉันไม่ได้คิดอะไรเกี่ยวกับเรื่องนี้, แต่ฉัน...   \n",
       "2  ดี, ฉันไม่ได้คิดอะไรเกี่ยวกับเรื่องนี้, แต่ฉัน...   \n",
       "3  และฉันนึกว่านั้นเป็นสิทธิพิเศษและมันยังคงเป็น ...   \n",
       "4  และฉันนึกว่านั้นเป็นสิทธิพิเศษและมันยังคงเป็น ...   \n",
       "\n",
       "                                          hypothesis  label  y_hat  \n",
       "0                           ฉันไม่ได้คุยกับเขาอีกเลย      2      2  \n",
       "1  ฉันรู้สึกเเย่มากที่ฉันกำลังเริ่มที่จะคุยกับเขา...      0      0  \n",
       "2                          พวกเราคุยกันได้ถูกคอจริงๆ      1      1  \n",
       "3  ฉันไม่รู้เลยว่าฉันไม่ใช่เเค่คนเดียวที่อยู่ที่ไ...      1      1  \n",
       "4  ฉันเข้าใจว่าฉันคือคนเดียวที่มีเลขที่ AFFC สาขา...      0      0  "
      ]
     },
     "metadata": {},
     "output_type": "display_data"
    },
    {
     "name": "stdout",
     "output_type": "stream",
     "text": [
      "              precision    recall  f1-score   support\n",
      "\n",
      "           0    0.97865   0.98802   0.98331      1670\n",
      "           1    0.98260   0.98084   0.98172      1670\n",
      "           2    0.99095   0.98323   0.98708      1670\n",
      "\n",
      "    accuracy                        0.98403      5010\n",
      "   macro avg    0.98407   0.98403   0.98404      5010\n",
      "weighted avg    0.98407   0.98403   0.98404      5010\n",
      "\n"
     ]
    }
   ],
   "source": [
    "xnli_th_test = xnli_th_data_dict['test'].copy()\n",
    "X_xnli_th_test = xnli_th_test[['premise', 'hypothesis']].values.tolist()\n",
    "X_xnli_th_test_tokenized = tokenize_sentence(X_xnli_th_test, tokenizer)\n",
    "\n",
    "xnli_th_test_pred_prob = my_xlm.predict(X_xnli_th_test_tokenized)\n",
    "xnli_th_test['y_hat'] = np.argmax(xnli_th_test_pred_prob, axis=1)\n",
    "display(xnli_th_test.head())\n",
    "\n",
    "print(classification_report(xnli_th_test['label'], xnli_th_test['y_hat'], digits=5))"
   ]
  },
  {
   "cell_type": "code",
   "execution_count": 30,
   "metadata": {},
   "outputs": [
    {
     "data": {
      "text/html": [
       "<div>\n",
       "<style scoped>\n",
       "    .dataframe tbody tr th:only-of-type {\n",
       "        vertical-align: middle;\n",
       "    }\n",
       "\n",
       "    .dataframe tbody tr th {\n",
       "        vertical-align: top;\n",
       "    }\n",
       "\n",
       "    .dataframe thead th {\n",
       "        text-align: right;\n",
       "    }\n",
       "</style>\n",
       "<table border=\"1\" class=\"dataframe\">\n",
       "  <thead>\n",
       "    <tr style=\"text-align: right;\">\n",
       "      <th></th>\n",
       "      <th>id</th>\n",
       "      <th>prediction</th>\n",
       "    </tr>\n",
       "  </thead>\n",
       "  <tbody>\n",
       "    <tr>\n",
       "      <th>0</th>\n",
       "      <td>c6d58c3f69</td>\n",
       "      <td>2</td>\n",
       "    </tr>\n",
       "    <tr>\n",
       "      <th>1</th>\n",
       "      <td>cefcc82292</td>\n",
       "      <td>1</td>\n",
       "    </tr>\n",
       "    <tr>\n",
       "      <th>2</th>\n",
       "      <td>e98005252c</td>\n",
       "      <td>0</td>\n",
       "    </tr>\n",
       "    <tr>\n",
       "      <th>3</th>\n",
       "      <td>58518c10ba</td>\n",
       "      <td>1</td>\n",
       "    </tr>\n",
       "    <tr>\n",
       "      <th>4</th>\n",
       "      <td>c32b0d16df</td>\n",
       "      <td>1</td>\n",
       "    </tr>\n",
       "    <tr>\n",
       "      <th>...</th>\n",
       "      <td>...</td>\n",
       "      <td>...</td>\n",
       "    </tr>\n",
       "    <tr>\n",
       "      <th>5190</th>\n",
       "      <td>5f90dd59b0</td>\n",
       "      <td>1</td>\n",
       "    </tr>\n",
       "    <tr>\n",
       "      <th>5191</th>\n",
       "      <td>f357a04e86</td>\n",
       "      <td>2</td>\n",
       "    </tr>\n",
       "    <tr>\n",
       "      <th>5192</th>\n",
       "      <td>1f0ea92118</td>\n",
       "      <td>0</td>\n",
       "    </tr>\n",
       "    <tr>\n",
       "      <th>5193</th>\n",
       "      <td>0407b48afb</td>\n",
       "      <td>0</td>\n",
       "    </tr>\n",
       "    <tr>\n",
       "      <th>5194</th>\n",
       "      <td>16c2f2ab89</td>\n",
       "      <td>2</td>\n",
       "    </tr>\n",
       "  </tbody>\n",
       "</table>\n",
       "<p>5195 rows × 2 columns</p>\n",
       "</div>"
      ],
      "text/plain": [
       "              id  prediction\n",
       "0     c6d58c3f69           2\n",
       "1     cefcc82292           1\n",
       "2     e98005252c           0\n",
       "3     58518c10ba           1\n",
       "4     c32b0d16df           1\n",
       "...          ...         ...\n",
       "5190  5f90dd59b0           1\n",
       "5191  f357a04e86           2\n",
       "5192  1f0ea92118           0\n",
       "5193  0407b48afb           0\n",
       "5194  16c2f2ab89           2\n",
       "\n",
       "[5195 rows x 2 columns]"
      ]
     },
     "execution_count": 30,
     "metadata": {},
     "output_type": "execute_result"
    }
   ],
   "source": [
    "X_test = test_data[['premise', 'hypothesis']].values.tolist()\n",
    "X_test_tokenized = tokenize_sentence(X_test, tokenizer)\n",
    "\n",
    "dear_watson_df = test_data[['id']].copy()\n",
    "dear_watson_result = my_xlm.predict(X_test_tokenized)\n",
    "dear_watson_df['prediction'] = np.argmax(dear_watson_result, axis = 1)\n",
    "dear_watson_df"
   ]
  },
  {
   "cell_type": "code",
   "execution_count": 31,
   "metadata": {},
   "outputs": [
    {
     "data": {
      "image/png": "[encoded data removed]",
      "text/plain": [
       "<Figure size 432x288 with 1 Axes>"
      ]
     },
     "metadata": {
      "needs_background": "light"
     },
     "output_type": "display_data"
    }
   ],
   "source": [
    "test_data['language'].value_counts().plot(kind='bar')\n",
    "plt.title('Count of test instances by languages')\n",
    "plt.xlabel('Language')\n",
    "plt.ylabel('Count')\n",
    "plt.show()"
   ]
  },
  {
   "cell_type": "code",
   "execution_count": 32,
   "metadata": {},
   "outputs": [],
   "source": [
    "def predict_and_print(premise, hypothesis, model):\n",
    "    class_dict = {\n",
    "        0: 'entailment',\n",
    "        1: 'neutral',\n",
    "        2: 'contradiction'\n",
    "    }\n",
    "\n",
    "    input_list = [[premise, hypothesis]]\n",
    "    tokenized_input = tokenize_sentence(input_list, tokenizer)\n",
    "    input_result = model.predict(tokenized_input)\n",
    "    input_result_class = np.argmax(input_result)\n",
    "\n",
    "    print(f'premise: {premise}')\n",
    "    print(f'hypothesis: {hypothesis}')\n",
    "    print(f'prediction: {class_dict[input_result_class]}')\n",
    "    print('-'*40)"
   ]
  },
  {
   "cell_type": "code",
   "execution_count": 33,
   "metadata": {},
   "outputs": [
    {
     "name": "stdout",
     "output_type": "stream",
     "text": [
      "premise: เด็กหญิงมาลีถูกสอนให้กินข้าวจนหมด\n",
      "hypothesis: เด็กหญิงมาลีกินข้าวหมดจานเลยค่ะ\n",
      "prediction: entailment\n",
      "----------------------------------------\n"
     ]
    }
   ],
   "source": [
    "premise = 'เด็กหญิงมาลีถูกสอนให้กินข้าวจนหมด'\n",
    "hypothesis = 'เด็กหญิงมาลีกินข้าวหมดจานเลยค่ะ'\n",
    "predict_and_print(premise, hypothesis, my_xlm)"
   ]
  },
  {
   "cell_type": "code",
   "execution_count": 48,
   "metadata": {},
   "outputs": [
    {
     "name": "stdout",
     "output_type": "stream",
     "text": [
      "premise: ไอ้โอม ไอ้โอม! ตาลือตกบ้าน!\n",
      "hypothesis: โอมว่าเผ่นเหอะพี่ บ้านนี้ผีดุ\n",
      "prediction: neutral\n",
      "----------------------------------------\n"
     ]
    }
   ],
   "source": [
    "premise = 'ไอ้โอม ไอ้โอม! ตาลือตกบ้าน!'\n",
    "hypothesis = 'โอมว่าเผ่นเหอะพี่ บ้านนี้ผีดุ'\n",
    "predict_and_print(premise, hypothesis, my_xlm)"
   ]
  },
  {
   "cell_type": "code",
   "execution_count": 34,
   "metadata": {},
   "outputs": [
    {
     "name": "stdout",
     "output_type": "stream",
     "text": [
      "premise: ถ้าจำนวนเต็มใดหารด้วยสองลงตัวแล้วจำนวนเต็มนั้นเป็นจำนวนเต็มคู่ และจำนวนเต็มคี่คือจำนวนเต็มที่ไม่ใช่จำนวนเต็มคู่\n",
      "hypothesis: สิบสามเป็นจำนวนเต็มคี่เพราะหารด้วยสองไม่ลงตัว\n",
      "prediction: neutral\n",
      "----------------------------------------\n"
     ]
    }
   ],
   "source": [
    "premise = 'ถ้าจำนวนเต็มใดหารด้วยสองลงตัวแล้วจำนวนเต็มนั้นเป็นจำนวนเต็มคู่ และจำนวนเต็มคี่คือจำนวนเต็มที่ไม่ใช่จำนวนเต็มคู่'\n",
    "hypothesis = 'สิบสามเป็นจำนวนเต็มคี่เพราะหารด้วยสองไม่ลงตัว'\n",
    "predict_and_print(premise, hypothesis, my_xlm)"
   ]
  },
  {
   "cell_type": "code",
   "execution_count": 35,
   "metadata": {},
   "outputs": [
    {
     "name": "stdout",
     "output_type": "stream",
     "text": [
      "premise: ได้ฮักกับอ้ายเหมือนใจได้ปริญญา ชีวิตผู้สาวบ้านนาวุฒิการศึกษามีน้อย ขาดโอกาสเรียนเพราะจนเป็นคนเลื่อนลอย โชคดีมีอ้ายเฝ้าคอยหยัดยืนให้โอกาสใจ\n",
      "hypothesis: เธอเรียนจบแล้ว\n",
      "prediction: entailment\n",
      "----------------------------------------\n"
     ]
    }
   ],
   "source": [
    "premise = 'ได้ฮักกับอ้ายเหมือนใจได้ปริญญา ชีวิตผู้สาวบ้านนาวุฒิการศึกษามีน้อย ขาดโอกาสเรียนเพราะจนเป็นคนเลื่อนลอย โชคดีมีอ้ายเฝ้าคอยหยัดยืนให้โอกาสใจ'\n",
    "hypothesis = 'เธอเรียนจบแล้ว'\n",
    "predict_and_print(premise, hypothesis, my_xlm)"
   ]
  },
  {
   "cell_type": "code",
   "execution_count": 36,
   "metadata": {},
   "outputs": [
    {
     "name": "stdout",
     "output_type": "stream",
     "text": [
      "premise: ได้ฮักกับอ้ายก็ยังไม่ถึงกับได้ปริญญา ชีวิตผู้สาวบ้านนาวุฒิการศึกษามีน้อย ขาดโอกาสเรียนเพราะจนเป็นคนเลื่อนลอย โชคดีมีอ้ายเฝ้าคอยหยัดยืนให้โอกาสใจ\n",
      "hypothesis: เธอเรียนจบแล้ว\n",
      "prediction: contradiction\n",
      "----------------------------------------\n"
     ]
    }
   ],
   "source": [
    "premise = 'ได้ฮักกับอ้ายก็ยังไม่ถึงกับได้ปริญญา ชีวิตผู้สาวบ้านนาวุฒิการศึกษามีน้อย ขาดโอกาสเรียนเพราะจนเป็นคนเลื่อนลอย โชคดีมีอ้ายเฝ้าคอยหยัดยืนให้โอกาสใจ'\n",
    "hypothesis = 'เธอเรียนจบแล้ว'\n",
    "predict_and_print(premise, hypothesis, my_xlm)"
   ]
  },
  {
   "cell_type": "code",
   "execution_count": 37,
   "metadata": {},
   "outputs": [
    {
     "name": "stdout",
     "output_type": "stream",
     "text": [
      "premise: ปัญหาเมื่อคืนนี้ทำให้พนักงานทุกคนต้องมารวมหัวกันแก้จนกระทั่งผ่านไปได้ด้วยดีก่อนที่พระอาทิตย์จะขึ้น\n",
      "hypothesis: เมื่อคืนไม่มีใครแม้แต่จะเหลียวมองปัญหาที่เกิดขึ้นเลย\n",
      "prediction: contradiction\n",
      "----------------------------------------\n",
      "premise: ปัญหาเมื่อคืนนี้ทำให้พนักงานทุกคนต้องมารวมหัวกันแก้จนกระทั่งผ่านไปได้ด้วยดีก่อนที่พระอาทิตย์จะขึ้น\n",
      "hypothesis: เมื่อคืนทุกคนสนใจปัญหาที่เกิดขึ้นกันมาก\n",
      "prediction: entailment\n",
      "----------------------------------------\n"
     ]
    }
   ],
   "source": [
    "premise = 'ปัญหาเมื่อคืนนี้ทำให้พนักงานทุกคนต้องมารวมหัวกันแก้จนกระทั่งผ่านไปได้ด้วยดีก่อนที่พระอาทิตย์จะขึ้น'\n",
    "hypothesis = 'เมื่อคืนไม่มีใครแม้แต่จะเหลียวมองปัญหาที่เกิดขึ้นเลย'\n",
    "predict_and_print(premise, hypothesis, my_xlm)\n",
    "    \n",
    "\n",
    "premise = 'ปัญหาเมื่อคืนนี้ทำให้พนักงานทุกคนต้องมารวมหัวกันแก้จนกระทั่งผ่านไปได้ด้วยดีก่อนที่พระอาทิตย์จะขึ้น'\n",
    "hypothesis = 'เมื่อคืนทุกคนสนใจปัญหาที่เกิดขึ้นกันมาก'\n",
    "predict_and_print(premise, hypothesis, my_xlm)"
   ]
  },
  {
   "cell_type": "code",
   "execution_count": 38,
   "metadata": {},
   "outputs": [
    {
     "name": "stdout",
     "output_type": "stream",
     "text": [
      "premise: Come up to meet you, tell you I'm sorry. You don't know how lovely you are\n",
      "hypothesis: You're beautiful.\n",
      "prediction: entailment\n",
      "----------------------------------------\n"
     ]
    }
   ],
   "source": [
    "premise = \"Come up to meet you, tell you I'm sorry. You don't know how lovely you are\"\n",
    "hypothesis = \"You're beautiful.\"\n",
    "predict_and_print(premise, hypothesis, my_xlm)"
   ]
  },
  {
   "cell_type": "code",
   "execution_count": 39,
   "metadata": {},
   "outputs": [
    {
     "name": "stdout",
     "output_type": "stream",
     "text": [
      "premise: การทำรัฐประหารเป็นความผิดต่อแผ่นดิน\n",
      "hypothesis: การยึดอำนาจอธิปไตยนั้นเป็นเรื่องชอบธรรม\n",
      "prediction: contradiction\n",
      "----------------------------------------\n"
     ]
    }
   ],
   "source": [
    "premise = 'การทำรัฐประหารเป็นความผิดต่อแผ่นดิน'\n",
    "hypothesis = 'การยึดอำนาจอธิปไตยนั้นเป็นเรื่องชอบธรรม'\n",
    "predict_and_print(premise, hypothesis, my_xlm)"
   ]
  },
  {
   "cell_type": "code",
   "execution_count": 40,
   "metadata": {},
   "outputs": [
    {
     "name": "stdout",
     "output_type": "stream",
     "text": [
      "premise: พี่แมนบอกเลิกแอนนี่เพราะว่าแอนนี่พูดไม่รู้เรื่อง\n",
      "hypothesis: แอนนี่ถูกพี่แมนทิ้งเพราะว่าเป็นคนเข้าใจยาก\n",
      "prediction: entailment\n",
      "----------------------------------------\n"
     ]
    }
   ],
   "source": [
    "premise = 'พี่แมนบอกเลิกแอนนี่เพราะว่าแอนนี่พูดไม่รู้เรื่อง'\n",
    "hypothesis = 'แอนนี่ถูกพี่แมนทิ้งเพราะว่าเป็นคนเข้าใจยาก'\n",
    "predict_and_print(premise, hypothesis, my_xlm)"
   ]
  },
  {
   "cell_type": "code",
   "execution_count": 41,
   "metadata": {},
   "outputs": [
    {
     "name": "stdout",
     "output_type": "stream",
     "text": [
      "premise: พี่แมนบอกแอนนี่ว่าจะไปเที่ยวกับเพื่อนสมัยเด็กคืนนี้นะ\n",
      "hypothesis: พี่แมนมีคนอื่น\n",
      "prediction: entailment\n",
      "----------------------------------------\n"
     ]
    }
   ],
   "source": [
    "premise = 'พี่แมนบอกแอนนี่ว่าจะไปเที่ยวกับเพื่อนสมัยเด็กคืนนี้นะ'\n",
    "hypothesis = 'พี่แมนมีคนอื่น'\n",
    "predict_and_print(premise, hypothesis, my_xlm)"
   ]
  }
 ],
 "metadata": {
  "kernelspec": {
   "display_name": "Python 3",
   "language": "python",
   "name": "python3"
  },
  "language_info": {
   "codemirror_mode": {
    "name": "ipython",
    "version": 3
   },
   "file_extension": ".py",
   "mimetype": "text/x-python",
   "name": "python",
   "nbconvert_exporter": "python",
   "pygments_lexer": "ipython3",
   "version": "3.8.5"
  }
 },
 "nbformat": 4,
 "nbformat_minor": 4
}